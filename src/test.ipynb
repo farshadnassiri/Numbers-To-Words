{
 "cells": [
  {
   "cell_type": "code",
   "execution_count": 1,
   "id": "0c0f3ca4",
   "metadata": {},
   "outputs": [],
   "source": [
    "from constants import TENS, UNDER_20, ABOVE_100\n"
   ]
  },
  {
   "cell_type": "code",
   "execution_count": 46,
   "id": "df6175fd",
   "metadata": {},
   "outputs": [],
   "source": [
    "def num_to_word(num):\n",
    "    if num<20:\n",
    "        return UNDER_20[num]\n",
    "\n",
    "    if num >= 20 and num < 100:\n",
    "        if num%10 == 0:\n",
    "         return TENS[num//10] \n",
    "        return TENS[num//10]+(\" \"+ UNDER_20[num%10])\n",
    "\n",
    "    if num >= 100:\n",
    "        pivot=max([key for key in ABOVE_100 if num >= key])\n",
    "        if num%pivot == 0:\n",
    "            return  UNDER_20[num//pivot]+\" \"+ABOVE_100[pivot]\n",
    "        return UNDER_20[num//pivot]+\" \"+ABOVE_100[pivot]+\" \"+num_to_word(num%pivot)  \n",
    "\n"
   ]
  },
  {
   "cell_type": "code",
   "execution_count": 25,
   "id": "3f0e266b",
   "metadata": {},
   "outputs": [
    {
     "data": {
      "text/plain": [
       "int"
      ]
     },
     "execution_count": 25,
     "metadata": {},
     "output_type": "execute_result"
    }
   ],
   "source": [
    "num=1001\n",
    "type(max([key for key in ABOVE_100 if num >= key]))"
   ]
  },
  {
   "cell_type": "code",
   "execution_count": 49,
   "id": "fb363300",
   "metadata": {},
   "outputs": [
    {
     "data": {
      "text/plain": [
       "'One Thousand One'"
      ]
     },
     "execution_count": 49,
     "metadata": {},
     "output_type": "execute_result"
    }
   ],
   "source": [
    "num_to_word(1001)"
   ]
  }
 ],
 "metadata": {
  "kernelspec": {
   "display_name": "base",
   "language": "python",
   "name": "python3"
  },
  "language_info": {
   "codemirror_mode": {
    "name": "ipython",
    "version": 3
   },
   "file_extension": ".py",
   "mimetype": "text/x-python",
   "name": "python",
   "nbconvert_exporter": "python",
   "pygments_lexer": "ipython3",
   "version": "3.13.5"
  }
 },
 "nbformat": 4,
 "nbformat_minor": 5
}
